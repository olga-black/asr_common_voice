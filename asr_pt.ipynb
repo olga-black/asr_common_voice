{
 "cells": [
  {
   "cell_type": "markdown",
   "metadata": {},
   "source": [
    "# Speech Recognition with a hybrid CNN + RNN architecture\n",
    "\n",
    "## Dataset: Mozilla Common Voice 11.0, Brazilian Portuguese"
   ]
  },
  {
   "cell_type": "markdown",
   "metadata": {},
   "source": [
    "### 1. Download and explore the dataset"
   ]
  },
  {
   "cell_type": "code",
   "execution_count": 1,
   "metadata": {},
   "outputs": [
    {
     "name": "stderr",
     "output_type": "stream",
     "text": [
      "/usr/lib/python3/dist-packages/requests/__init__.py:89: RequestsDependencyWarning: urllib3 (1.26.15) or chardet (3.0.4) doesn't match a supported version!\n",
      "  warnings.warn(\"urllib3 ({}) or chardet ({}) doesn't match a supported \"\n"
     ]
    }
   ],
   "source": [
    "import os\n",
    "import datasets"
   ]
  },
  {
   "cell_type": "code",
   "execution_count": 2,
   "metadata": {
    "scrolled": true
   },
   "outputs": [
    {
     "name": "stderr",
     "output_type": "stream",
     "text": [
      "Found cached dataset common_voice_11_0 (/media/my_data/programming/lessons/asr_pt/mozilla-foundation___common_voice_11_0/pt/11.0.0/2c65b95d99ca879b1b1074ea197b65e0497848fd697fdb0582e0f6b75b6f4da0)\n"
     ]
    },
    {
     "data": {
      "application/vnd.jupyter.widget-view+json": {
       "model_id": "dd16757a064a4b1f9ec76af166d40897",
       "version_major": 2,
       "version_minor": 0
      },
      "text/plain": [
       "  0%|          | 0/5 [00:00<?, ?it/s]"
      ]
     },
     "metadata": {},
     "output_type": "display_data"
    }
   ],
   "source": [
    "# Download the dataset from hugginface\n",
    "# After the initial download, it will be reused from the local cache folder\n",
    "\n",
    "dataset = datasets.load_dataset(\"mozilla-foundation/common_voice_11_0\", \"pt\", cache_dir=os.getcwd())"
   ]
  },
  {
   "cell_type": "code",
   "execution_count": 3,
   "metadata": {},
   "outputs": [
    {
     "data": {
      "text/plain": [
       "DatasetDict({\n",
       "    train: Dataset({\n",
       "        features: ['client_id', 'path', 'audio', 'sentence', 'up_votes', 'down_votes', 'age', 'gender', 'accent', 'locale', 'segment'],\n",
       "        num_rows: 18211\n",
       "    })\n",
       "    validation: Dataset({\n",
       "        features: ['client_id', 'path', 'audio', 'sentence', 'up_votes', 'down_votes', 'age', 'gender', 'accent', 'locale', 'segment'],\n",
       "        num_rows: 8688\n",
       "    })\n",
       "    test: Dataset({\n",
       "        features: ['client_id', 'path', 'audio', 'sentence', 'up_votes', 'down_votes', 'age', 'gender', 'accent', 'locale', 'segment'],\n",
       "        num_rows: 8693\n",
       "    })\n",
       "    other: Dataset({\n",
       "        features: ['client_id', 'path', 'audio', 'sentence', 'up_votes', 'down_votes', 'age', 'gender', 'accent', 'locale', 'segment'],\n",
       "        num_rows: 16751\n",
       "    })\n",
       "    invalidated: Dataset({\n",
       "        features: ['client_id', 'path', 'audio', 'sentence', 'up_votes', 'down_votes', 'age', 'gender', 'accent', 'locale', 'segment'],\n",
       "        num_rows: 4870\n",
       "    })\n",
       "})"
      ]
     },
     "execution_count": 3,
     "metadata": {},
     "output_type": "execute_result"
    }
   ],
   "source": [
    "# See the structure of the dataset\n",
    "\n",
    "dataset"
   ]
  },
  {
   "cell_type": "code",
   "execution_count": 4,
   "metadata": {},
   "outputs": [
    {
     "name": "stdout",
     "output_type": "stream",
     "text": [
      "Counter({'': 15536, 'Português do Brasil,Região Sul do Brasil': 1308, 'Paulistano.': 324, 'neutro': 299, 'Soa levemente cantado.': 180, 'Paulista,Paulistano,Brasileiro': 118, 'Carioca,Brasileiro': 105, 'Pouco sotaque': 94, 'Carioca': 82, 'Paulista': 72, 'Mato Grosso': 52, 'Mineiro': 41})\n"
     ]
    }
   ],
   "source": [
    "from collections import Counter\n",
    "print(Counter(dataset[\"train\"][\"accent\"]))"
   ]
  },
  {
   "cell_type": "code",
   "execution_count": 5,
   "metadata": {},
   "outputs": [
    {
     "data": {
      "text/plain": [
       "Counter({'4736e6f95a939c9602c1e1f200221e1ed5164b6e7190a1e567fe047fd73621cda5d4d8c063c41ad801a2fdf79246b9fa6b1d8050c23f7827e4b355c27371032e': 38,\n",
       "         '81f45e8a0072b3e8f486e6fcd9306e20f7b20c904790b5eebed510a35372e8b35069cc86375c78d11b6c6e0b29dac39ef150f7c0a26fe401212b3402808ffa6d': 37,\n",
       "         'bafe6f99fffb941ad1b2cefeaf232134a85fcd4053fefeaff49a859a4c036b59812907c20950ae5a82cd104b9028d41daf93606c77a3af677e4e67218554de59': 52,\n",
       "         'deaafb475e5f6790e785ffd439dde2d41487217f1d464d7c6dbcb59c800c340fb159b788b071f058383da444a4248e2a90e4ddd4088d2e1f2629d0cc52988f45': 38,\n",
       "         'f7b523cec5e9c74ecc57fadaaf973cc21c7be13513b8f1f312262761e99ef2c8dd799d21ed2e017340ab50872dc8727244930345b0c5ebee37aa86137a95df04': 36,\n",
       "         '180571bc2bccbba0abb666d8937e807da1c6f8ccb11ee246deb6638517d30c73aa8da3714e7ff93497d20dc6e01302ec76dca681937ddb67e48b13e905376885': 34,\n",
       "         '69dd03210854d9c9d0423238bdb390b3cb8232c58609f50678daf12a9cd2753c9a11d5f421d07c93d7aae56522199256c7e09a72fa3891fe5ea5eb60f8ede72f': 38,\n",
       "         '90489f2389ab3f96b3ec76e4eae1b10d286667da50ed00d5c76f3db6d73c37356dece62cdd6a9922867d73d49f764cadd6d2f11eea7c3b76fbd95d93e516fc9b': 44,\n",
       "         'ac56fa16e9a12f14592721e93b41c9dfb9a2080137dbbf4fb3c623692dac6bee1ace416f4f5ca3a1737335207d20f575a5594d9d8a02a290cebe5a0b15b37bbe': 55,\n",
       "         'b7131d3015c46a4512e5cd276fe2d5ab4019f5b523da71f8491ebc6e230e759774e24fec3d17e5a769e64a1729b1d3554bfe8abf33abdc365f7ff91fcf55c65e': 35,\n",
       "         'd4c57a15a1126889ae40be4e254341e394d40a5723de32a64a1c10d82bacae4e343917fbf545799be17ec35b394930b16b97271113cb2310bf200bf7d24f4f0d': 50,\n",
       "         '6ad2b562c4c8b12ca84f0a639505f7a41f1895c1be8012511e7c6f1205d7863408f234489ed11d2b0d1d9a3e2ace109f25bb47684c306e78650148c57d5fd6ef': 32,\n",
       "         'ccaa934778d263d0fd38078fc97d2a3a2f02245aba25f8d5380a27fc9502f1c4f60d5dfa4764a5c6fe9a54b4d1825d6bbd1c407c70a0fa94bc425f0b15284a69': 25,\n",
       "         '4b8815e53b03b4ac074ac2e3083eef0b0cf6dc440747417f121aca1bdb9eb43095f94a3062b5a551cd0ab32fde82f083b10924555e5fd7b75731611c717a2999': 41,\n",
       "         '7188b3f2a22179d0014076a2b11b6409e185c3f2e748f3d0406036d9d1c7a01e51e71100ce45785eac099f0f25f9737e08c8dc00417a792a5138237b0efa84e7': 57,\n",
       "         'c3ec27dfd7472f931a48d2601d7f50e6342f21f3d6046d0ee7fa25ef40ee7138b86ffac804383c6db5275146b3d550af5d105d3ba4bfc813f424df383835e9da': 39,\n",
       "         'da70d788a09007d08293d710d0ca147dfb30b3410bcfe0962da3d839b8808c16d31ef98598de5250cc5d48a150ce21f3df7dc306aee3c9a40d69074e0018a709': 14,\n",
       "         '82f1b2b02167d4da6d1dc892dd1812c873bf95cbf56b90c1c54f04c8115c6699eda1903bd6f56df2feccf4084e92dfdd632eb6a9c6251a8b5d55599d272122ad': 42,\n",
       "         '24f4fa72fe2cde400f68511e1c4e4181f9c08a8134426cf1a7dd89a79df66f7a8b8a02337fbf2c59df26e7e10f4d810270ef42b10d66c70acf2d5f663525d7dc': 51,\n",
       "         '4bd83ff01bf66d073c006a54a8492efee47bbddb90accd3c000f71131dc0e97dd03f5daafae9111c1db4703acc1e6e85d6260b480ec452c36ecb0a81145bae70': 66,\n",
       "         'd3f6d6e2f75ec23745932e00240d61e3bb4acbb2452ee9502dbdfcae9068dcf48bd6c3dbb5f7510f17d6c2370c97d185bed6203d162ae20bc0fbcd7a2d7351e1': 18,\n",
       "         'd8cb2d3998acfeb0bfa19434af8dc3b72e51a2fdde271055cfd45cf156c15e161fd8cecf6d041d91993889229045022bddec93a62d44d6146c371b90addb87ec': 46,\n",
       "         '220b84e4f0d599b4cddb795ef06a42208766d477844eda660418b4735bae36a816716300191b6782a14f9e963fbcbb661562399739a176df571cec1064d9d330': 37,\n",
       "         '5bed3fd27bbaeddc87fbd630500fc8944603a49345c198711635ca3d67f36a5e3e737084e782455abd8e0765e048b01c5df2676b70607d61551e507e898d2da7': 44,\n",
       "         '8bfe593871d94d6f24c2f4caae2f1d3d0052dc18f20e40d776fa222f5e04863b38e533090d5b6fd19d11df02b4c311fda5bef779f05b9b7a7c43d06365e1db1d': 51,\n",
       "         '27b53e0611ff0009f50f20e3a3a8a435978c2d46e3cc0ebde8609678920fd1938e60557adc717e984afe6c56c59bc0613bd37c069ddb9af6fe7e773f87ee7409': 34,\n",
       "         'b21d03f7daa8dd710be1198c649633cfaca555c99865cc14952b2e2fe3a8c09d2b205ca2a3d39c89fb1508b09aa45617444136a98ba4f86e83667cdf974c2e51': 65,\n",
       "         '27eafd9e2f5154792415de2ea110144145c262834cce6aaf6ab4dcba5b60cefbef091d81976e0e7e934365e950e9ac269eb7a43fb73e5152b6f9cc0de5a2ff23': 19,\n",
       "         '273c198c2dac149b3b3a5066ba43a8a488e7494caa9d3668d12a64d14856e380976e1ad19412c67c91b39eb6eac07b44e42ac716b9bc5c6d7ef2acfcc7f12b40': 46,\n",
       "         'd7b413fe7a79c17f0af9e357d79843cc7a4f4119c4a77ddebe388d0b0edd1f10e335d4451637a275e0bbf50feba7db1f9ac17ddfd6796347e5e5c63fc042db7c': 54,\n",
       "         '524394f6842df8b38ff35cf2b86e90a8545a0d83ec69ddeb3c58d8328fa24dfcd7800bfb8d05d29c13d9119b6c3805dbb2e0af45e0a898bbf9d7f3e94096df20': 63,\n",
       "         'ecfd36288a16e648f12fd6298dfe018c9a1f858219515df720cfd714e1710a56a1e4e49c547e91a58caf8c1104472855a5bb2388ae759ce0ab04bfdd24133060': 57,\n",
       "         '4b1d485bbb8ecd98e000957ad6045e8eeb7d2d0e934fa3f42e187b8273e795b1dd8eacefea959fa9300bed6f774b8b2d82f6924f60df92213931afb1d0a1153f': 53,\n",
       "         'c468e71b47b605730aebf5872ccae58bf455bc8cdcfe5298aff8808df9fc1bc66c6299d64e53b7a52136de91edc4ffa54eac10564b5329e9a76021f86e37efd0': 19,\n",
       "         '38923c3a4027c5a3760590e0af900a9d5e9505dfd37175c8c91c025f5ad89e85e3f07511edd4f4d2693556fc7c610f2c11ba1a27c02d71cf522135fa3ce53850': 50,\n",
       "         'd70dd358a70da404ac99d3142555d78a207e95ddbec3ea40f706e1fe26fe5c6f8cc2a04365959da5977e77d92861b4a052e6a822bb5c631d7e0e422d87ae9503': 66,\n",
       "         'dcdd79f21a5412b78dc36a5b4278f924596405b433e97088daa3453c62665a65fba72e33ee815af6b79cd04d65c4210b2e8bd650853efd7f87fc2235ff965a96': 29,\n",
       "         'e441a6a81dd284214bdcea74c9a5730bdab8558d502c3dc89a2e56a9b2ca50ba4d34d6e19b91897d035fd023dc23d1c45b8209d6b99ae324ba70778bbc15e47a': 25,\n",
       "         'cea19651125ccc2e0a6c4a5f6f70e95ce83f8cecbfaf3aeb6520feb58f0555e86b6ffc72436886fdf3fa89ba15ac253148bae7f772dc2a87cdab68582f4280d0': 34,\n",
       "         'ed7acdcc5de6f3b08d94800a30be7af3a72c9ef148cfb0b3a208b1dce6c6385ad3b5f24371f8f22a243140f38b90260e8bf30e03808d767e7f120aec15c6961d': 34,\n",
       "         'fc0c84e6c9645ac165afd9664478548506d9d91cbe84ba2dd588b980d2e6b36d6e3cc673860ff9b31e25a24c01ef97f45b6ee9fa10f272dfd37670b6be577aa5': 43,\n",
       "         '228433504b72862dcbb94dbbb5adfb1e7828e5333607a6450da9225f4df044ac419946997fd3d0b759d820e337bb16fb184701ed6c7470410f55a4ae671d2b7b': 59,\n",
       "         '9c9274fdfe9457e0237b059cd636441f69728b530b8b1a38736bfe2d929a11bad56332e86d361bd2931bd1676c17bbf1f9144a4bdecdeb5e7c2b8ca206ae940f': 29,\n",
       "         'd04546b12a41d9e4218b91bae6460dd0617956a9e994027b76c851fede80da3c352ed685fc48514a2e8169ca153acbdaeb602bef6d22a92ceb9392c5662cc378': 42,\n",
       "         '15c00952aabf605f61b38e355e7c00290cfcafff6c82dbc0286ee1515e851b08d85dc1a5c9124a2da3f9234d7a2a4562b9e16a5eb6e7871cbdba7e81f2ff829d': 65,\n",
       "         '225adff8ebbdfa24c2b26ac0ba748b126a6037a7934c41a57385afad1c51cd36ce41d00c688a8065ed46ca1d2064282a4bfcefa9ce8ead6e53197ac3e7a7d6b5': 45,\n",
       "         'fa064386a48e3cee9d36ef133430c5da8fc239f5df5ef0b2901bb270406563faf22af1179dafebace956d29cf6751b53c3abb7c6480cc6f7088a71a170b8c269': 47,\n",
       "         '140ab5bb4f589356f8b02304e191687442dfd331b252df3f4629741b6800c9b045374e6a324c875ced31df54c148cf5df2960413fc3d68852302b3c50501e4df': 47,\n",
       "         '2598f6df5d979e20f591be2352153e4c8eaf5eb1ed76118e4c33afe9add4b3625e4decf206286788d8837c5d871f5d62917375c6c89fbf4198e0174fa80ce17c': 50,\n",
       "         '3b19f20dc099862d4215c7e120ec44e5758a43388a71a662ae57d1d6ac0704c399a6838c82f2942696fdaa0eb4edc27479cb9a3a382fcc4e261eb6483b950068': 25,\n",
       "         'c4341859243f73fc97ea116609796d4ec0332578a32eb21c07ae1611a6e71e16496de4b3c2c4582eaad5c679fe80fe7b9f5d5f7f418a5f2927af5c9aec6fc427': 39,\n",
       "         '164ddff6f213b707cb52113f55a96cce5bf4fd97a91aa89c6ecbab4288f39e47b8bfec7e0fd430a6952cae33d610780dae348662b30857b177a8325016238daf': 82,\n",
       "         '6181473119e28e4eda2dfe1b8bc5c65800f3079b8613b147f00cd41e7f5fda97a63c2438515a5ba2d1eecf9664ffb8b63a83ee79bae45e9984d65bd48622142e': 39,\n",
       "         '908370525ccfb5ae75ed481021e38ab81cfb3a357d92848f5f60295ba0b3731f0518dade1f0c0aaf93c29251974fffecca46f683a4d9fbcc2c1a419284546baa': 82,\n",
       "         'cacf5b76cb660c1809a52e521361dbdc74a8f054ac817e9b40172f67dba3ca8f94d1c4017437fd155678836f68de5ea66e7b1bfa0ea814c130bd266bb38550c6': 35,\n",
       "         'fbb8f4e3b06a7ab3a388f07855a8bd231722b9887a5e17ae98b14622182526c326b84d57d4e28b67ec0efbe07ecd8730d5e8f753b05e5760aa8397fcf4546985': 38,\n",
       "         '271072977633f19f4dd7f26b304f6a26384d09e7f5b09ec80e345532c11c8129f681a30b13dc0c962dbbfdbf179be2393cff3f6e29fc55054401f1f792ac4959': 65,\n",
       "         '3c344cebc83ba928d532b08028742284ef2a50ec804f8c19d2e07fa2555dd68d9119406277c93c5c84544ad7de246cb2dc2cc4b76bc067b78693a461f5190cc4': 42,\n",
       "         '7d16aec9274ccf02d6615fa2452b34bd977ffac4b5052fe7dde666facefff04c6aa94b465ad24b7e8b553e731613b43386ea8dd47070ec34393c51fcadcc7acd': 61,\n",
       "         '93a457acb298308c09cfd750b418f7486a3d97126b63974d5595fafdcdf0813b0404089a3e639b66d042f12e523396b54b37c91939008dc84d185d20fb22c24b': 55,\n",
       "         'eee324820b9a3dfb7be817a32281f69e81206485d993882cbe104017c67c1fa5e25bd2bcd9fda79143660a4da9106a9e02c3e1b621cbce151fd4af2563f13047': 57,\n",
       "         'e65dd57d3b43f54b4b191ae076572d3e5ae84c850cc66af45d74da4d7ad0b001863e7401da83696b9edb436f9003f2cbda831871cf522ef7753ad8be806da59c': 31,\n",
       "         '8fc66dda242befff308ccc44535217b24fcea9f7729cf10d44daa55ad60cdbb75822ab2db217361a57f0f84e06658b0390fc21a705699049e6b3a7d35ba10ac8': 40,\n",
       "         'ce6048a21b098ddfdc3705051a63094652774a69b93fcfb1149f087c5dc9696beaecec34f513aa7bb9d1a6946d737f73cff1f58a6465af29cd830a5ee518eb63': 33,\n",
       "         '39f08564b0810b9cc03f2b99f3fd81e315f91587d9966376d1b2039c1058b084fda3ba807da2dcd0d5b7064da8666caadf2a8f5090d189fccb99f9a6ff76eb5f': 72,\n",
       "         '6d1fe6a414485014eb77a2ed7fa233bc3700ce5c4d756714efe3024e0bb885ec1fa0cdbc3d1e6ff1678029fbf33fc22f638e943ad536610b2cc97c529a3c9caf': 75,\n",
       "         'd9786a13f78aead3532fa627789f25fa57bf898f512cecb49e41fd62da1ff9b194c2673917df867e2bfd636118cd7316a7f8254225c3c13d8368c8dd1408f796': 57,\n",
       "         '002f45018a3ad61b9e56032deadd6f8dcab70a6169ca33c1153f622d1f23c89248cecf1cc9d72135dc5152517832fe5f6e79c6b4126395a9fb52320564472b7e': 54,\n",
       "         '1be6763270fad924e27d6952b4089a21d09f2cc5d789f0e0e8c6641c1ce907d9ddea72bfe3110b6a4ed097caae9712f32b1fe546b73d00967c2477f554204254': 50,\n",
       "         'c4b22e1d51a2dd8996727f70ddece23ef448164a1a4a5507e4608173685448b5e4821c1b5010ef68018093b01651ee6480c5573e00d5dab17098d5dbcf0ead0d': 53,\n",
       "         '230d66156f019fa32d28c6f624d4c852542020fb2a09674194e438fe7d1a8669846d7650ee2ebbd6a6f5ec577f07ba3cbdf32616fc7dd3c02511c70e156b9b4b': 91,\n",
       "         '42f3505f96c2d670ea10a56506c1e2a924462560e4b9a78b7770beb9bbfc9373d7545a160976840b98fe251387831d1291fe380cab89db3734e01afbfdebf750': 13,\n",
       "         '96abb593cdb081d43b51441eb2151bc183867d0856eb5d301db1c1ce4631eb53e699f187f2e7829bbd785e75395c005c0663afb3cec0d7663a6b09c860977f6e': 94,\n",
       "         'ecdc6d38f065fdc7e82a24249d4997f4f9184d26b7af4574f918137b456c9cd5e85a25794f379393c9fc3496aba2ddf6d8732f1dcf0560de5b6228af069d9607': 22,\n",
       "         '7c4cc793f6e6df33ed5eeed0cfa1de568edd89cb1a6c9143d1712b7e3ae97ddc7b5b235c50883a9267fb3bd982192d35d812ebd308e37a09057752996d513fa2': 41,\n",
       "         'a0ea2d409b8c54b020d3c74f4ad08de46064da81b1ae92dd406d34516944f3503fc59df524ac78c771b728778b86330b77b6403314b9517b252340934916d682': 41,\n",
       "         'c937d909b99d48ab90cf5ae04201395fb23b9f2fc4524beb3f4001bb14521712bc151d736e54e53d6ce527b824dc630f3ea3873d5bcb4bd39fe8237f41ccadd0': 48,\n",
       "         '8b4081bfcf2c7707ccd52b5a7f03bde27433de8d9980aac82525fbe515f8e56286220808690a719032cc06fcc280efeaf3edd49ff0671d67156dde4faab8256c': 46,\n",
       "         '25dc37ac6af463200b9b6a9bc8f4afa70518b4440b005d532eb1aa1eb07398bfd2e52815ac26c2b008df4ad3d4b012a1fd4a38e16e526880e53d8b97e0258b94': 41,\n",
       "         'a824317add63f72f026f719b283b9429635864c23fa6e7f70b41b39b7cb24bd9b63e9f771dd5daec7eb3b1e9c569ca69bd031a200cc338ced9810547eb7d6622': 63,\n",
       "         'dface05d5f805b44349b8437e687b90187ad84027113310e1420ed556fd0b6b577235289a1563edd738ceb308f18a590cc94580e221c9f29ed786af7490dae24': 52,\n",
       "         '36fba0212a969e2ebed7b75bfcd4d33ad1c28de68874b78dfdd7bfdde56616d2cc7aa262861ecfa9cd660b2e2822e115ccfe7ecf4a3917f01edcd7e5bb44f3e6': 50,\n",
       "         'f5c59b6dc6195356e8baaf948e6d4e3ee5d29219a1787f70ac838dcd8f34fd9e76e6fb91f9148f9eb4dda113aacc525d0f8b988d3c728ab2d23454f85beb744f': 48,\n",
       "         '723d20afca25ca1138d4ef7ed7e5ca2c744c087718ecf31d9c9b118dd525499a44b05cd6426fd5dced40dbc5ed719b6f7ade1c298ad0d303c7da538cbe089105': 38,\n",
       "         '0556393e819d068f427432c50f8accb456e40ab1d1f47b1b7e3c9a1e9fc24861abad5814327107f104539a51671a7faa5b63a12886f8c0f604fd05d53866f80c': 24,\n",
       "         '6eb4ba9002ad6b26a80ffad2d610e58c149c846722c178116d556f47dacccdc8fb08c0a86d3722fa80c3cb0084d6a2874ed305614f9d97ae298ef3eafdb0be28': 100,\n",
       "         '7d20201a44583f681d3e6f97849ee7d16e50e61c9ac3443892ac935294b48dbc047c7f17ae03a941cdf8e1735e2f3dad517e88e8acb26642c8c03bba2ac2385e': 84,\n",
       "         'd06fc80c3f4327fd6afc3fb88b872c3e50d1c786419dd54bf2db639d32cae03c7fe8049b734b8840eddeedc44c061ac4b8e784a735d106a41a35cd718ae5d858': 81,\n",
       "         '2dcba2b67cece3e63123b6652e639a557e502fe33251b6f9a658ab7691699884011c032d7ab9d622d7413fef4cdfc02b50d36fa4ee914127612cf811deb8553f': 47,\n",
       "         '2226d2734c4bd490515437184215c2c62a179d74952daa83ca1a3fd5ca589f493b9f9b5b2fd2fd62c925c2217270ff7b0caa2f67c8f35356717888d036459871': 38,\n",
       "         'b801a13d205e6220dbd76845438b59451b0d96899809f08ab076ff60e670e7a243f348b8c21cd570ae2c81342b98690ab0c7087ca59f16cecdc0b3354c6cb53c': 67,\n",
       "         '0668b1bfee19d6fadc3eb053675785f3c82690ad0f27743152c2c53a3baf4012dfeae5a9cbf21528804d55cfbfc3fccb80c76e0850389e0d56ac6f2c911e79d8': 34,\n",
       "         '2bd2540b3a84c29b6466b9e1ab5caa192a6f73108d6dcf88f15a8e490aa04e0f71e10b752838dd563492b6c8f14ba8bc89fb6460fdcac5720150df32080c45a4': 57,\n",
       "         '9125acd22f8c9c604ca4d1f0b492aaa0a2b6e79bc75067a36d7e9bbb3dcd757b3dd69d2560e08265a7964703972e960c2aaacdfdb17e417fccf75925700d7802': 82,\n",
       "         '328e68bbd38b995b7123279be78895e7133450950d777af0f52cc516bc168d85c234c693187311f5d7e030f934b40069ba54295b541046c77b0a79057616e502': 87,\n",
       "         '4774bcc2dfeedd80b851830fdd458f728c70e38a717ffb9896a884b464ec17529f502300e2c131950609180410922afa3b4390abc07dc1158f3dd13539a0e942': 67,\n",
       "         'e4d1ad57f8c0a156308df3b894926f4b4f90fd252a0d21cd5e17d16a96da000656b8ac90ed46cac9073e92dc4c8e34eb52b3294618416c82b766d345aec9833e': 105,\n",
       "         '1c36525acd5ec8726d871665f1de7bc6101ca90bfa7d57bed4634f2ba6b4aa7a0dadd15254749ae44de80d9e4ef912ba229a91ed991ca1dae6ce93789a590462': 72,\n",
       "         'c7a6f03d2af0d879306e1f94b40e56661486b43443b8d8628514a532bf622159b9a67ae2803a6e08fef268a7aa8ad65e363371f15f59f66bdf23d166106c21c6': 71,\n",
       "         '2ef6e6f79870efee6a8fb06a4fa802259687067e1dc25064b1c3768e11da448aa5aa3b69424971754e1e3642896d25d0cbd03b1cc220c27a78200ea11194341c': 45,\n",
       "         'bc55d67ac81b0980bf1502ddecccb076be1df3b1740dbe715265f4ab40fe34a1092d405abf802a93cc3c2dbae6574c9af545a74add75c42746ca3950ea7ff177': 49,\n",
       "         'dfc2d7d5c6bb78bdb16e13d287eb2e6c54eccddd6d7446ccbf9c88a50d5c6c0c1d569e411b44ac30fe617efcc5764431f26c3f33b66e418dea501e44b46f4f81': 54,\n",
       "         '20dfaa0b2efe800191d8cc5b40c39888000bf617db1b6eed369f691cb489a925524ef44bd944ebdeececd70d94f496097108c7851664fc4c74cd785dc54d72a4': 51,\n",
       "         '2efc17a7e44b681a919fc1a60b9466b9c8739984099b962c377e9c502d17ae34ebb23b68a98fb3aa7cd3bdb9ea5847d6d7f392c7a2e4735a90179b380ed1eb05': 20,\n",
       "         'bc18cb5ce96f222ac5921a723d05fd73097c2b547e1c8c63e342d16ae3f0ad7c56f7eadc64cac6ed7be692443a7819d46473fec27fd583a5c1a11f3272a05545': 118,\n",
       "         'a11abf1dc8760116349228f4979b64e4e1f86772ed65b9e0f510136e03bfabbfd7d07d294243ef5312bc5a997c502fe96ef77fd3f334a48126b8763d7c7980a2': 89,\n",
       "         '3b136d0f6950195c4840719b045f554f71f26beb9e27c621436d8214acc74cea36c1737a0a54f96179a7066c62f74374ac3352ca819716085b7fe549398e70d3': 84,\n",
       "         '7b5c79d0eab18bcd87fef77cd581f9ad9b15c71d82225b8aeaa4912221bd64203e9be023b3a7aab2931ddf38ba0537ea4c3ad4b8f923d9a31c298e544f24ae75': 72,\n",
       "         '59de950e2a1be2d1698c85e588f761746f51cf8e75b30d4cf3dc6d50dd5632ebfa3cdf9df763a9af82e65516ad767a8789e2907c6f67cdc96eaa75e8b69ae43c': 11,\n",
       "         'a84a6ae6ca696c50080372e34737d895334c61e5b6e16e8ac7f4e26549d007c3ab2e34adb07fe11905141592301481141f8705c0f5bb2869b3819fa73ae9beae': 13,\n",
       "         'f6127df46b8216218bd7a2b6392b211094c70eac2bac54766a74ddcb085c43800e4be6ab6c00d1dc3337474962485a5501cbc3221d379c287ccd27e530e1a3c6': 34,\n",
       "         '12891e560cc18b1cab071f96d7af59b1227c7f3d327b9b4b2da14b71833aa8155538ad21b5a6f6958cd0e3919c2530ab0947a6ee6d8f78b0b8f16902d4651d21': 98,\n",
       "         '2cf696dc452af2c99108effa5531d80cb7f3e3da6da46b5f3a597cb8363d65f91fb83981c136a27b8b2da97ae52304beaf81fdc56ea0f028ca1af247cb67c28d': 59,\n",
       "         'b87cfa7a8a3a1b5b32afead7a6245d4951ded9e59ff0591a7b1632968ae7be6fab8ed8d45459d467c6451af1223c96ee5f12aa65ad14391fdf5cee33ba145e34': 62,\n",
       "         'a805994c3ef6ee1a0ad37f8fbc27ebc941c99c84a74ad317c8d4ebf5e14d93dfb31c488bf3cd6b07af4fe17c8f2a434e8c5ce9582be980ee1f70f3a40b03ddd1': 53,\n",
       "         'e3c58d3a88bff877a33e212d7152ac0f0f4ca6d12a53a574f7f39bcb40bbded4ac87b72818dadeef4896629c52587ae6cad9cc8f6304d695e2b512b6ce7c1a46': 43,\n",
       "         '8bdd41b0eafcab547bde5099134f6190ad986553796bee710202ed1c340c56763406cb859d9f1e614e66146cc718facba15ad08de86fc365ad310c45791909aa': 43,\n",
       "         'f74f876e3a04d9a78efa7614d184f6184b46595289926d1b4df5f5db28c931dc4a47f814d570f58a383881bfc38a799b7397c89b06e31864c0799ddd4f9cc7fc': 82,\n",
       "         '402076c0efdec206f5c5a4adcf685f0a42337114591d09c62386f5704160a27e32f3afb0252d2bdf3c20c6da35e175dd94c0336c99117d60c0c8861a089a32e5': 62,\n",
       "         '51a5c3fc6148f8a5c4e188ddccf77968fa84e06db5d631109231da591154cb73cd7b103162170ffe0b85deffe84f65b608fc11379bf45336feeeee344a520522': 24,\n",
       "         'b09afd14b80405283cba8922d98622dbcba439044cd4d940e0c0e8554f88be373890f4a5ea159c792e0c6f3f13356268766cc920b71e6a2b33cc538328e08e59': 16,\n",
       "         'ddfc0fcb61774cf14e92e556b967bdf8327583f8cfc50f958be5d04c9aa2f70d9fd0cd0b2847cdc3acfcbc14e83e7207cd2b27ee67bcddcdce4b3186939045b5': 41,\n",
       "         '849c9fdc663fc131b0c5d3a4a5a361464069a18edefe36f426b5734dca8bef59a5cb897a40668af35f3597d4dd16ffeb1bbce1fc6589963649574ea147989360': 24,\n",
       "         '996730d51fbd9740f8edf884f7d7e573426b76ac73ec994b50b388869d8e810dcfbda8ce0533de283b28d00fe6729768c6ccf92326b999e802928240e461d52b': 24,\n",
       "         'f712206860c29293c450826033d275d9db47bd12e272a914b09d7830f726a86d08eb6cf692af7d65445bfcc7564e0a25a44ae9eb902fb61dc0e2a642be9feb35': 64,\n",
       "         '0ed0a1b7acf8cff5ab0699da9396e04711ea9b05c8e0c1a742a7d7ada8b5cc50612e9c312b4333137592ef2f5ffac13db77335464291f470e778c5546178ce6a': 134,\n",
       "         '0b9b9a0f273a8cc91540811af26f7abac45686e2a8d3a3103c7e7615b3dfb5a0b743b88e9939e1a954b00591cbc99ed59b4a7fae00424982bdc1882a184c6487': 52,\n",
       "         '163cc4c0542f0cef4466798c2658287526f7133cad9b50b33e6b94b8bf9dc63a1f647513f74f2ece15940531dbd323181b0a5ea71d3fa8c62d59481ca7502596': 45,\n",
       "         'd76e872cd8e581ed15344f019d4debe9986a03723be3fbc78f85b0cd7ce80f149c3ac2349e0246d64ff31e8878ce2394e114aebac64704e1502787327fcc2ef7': 111,\n",
       "         '62c4ed463dde0e832d3ab2a2c5a35666c80e5ef9366df7197945a71a7099f158c2e7740e63b9eda1d278a2ccba135ae49d203ac12e45fefc9753289ba7ca4f1d': 44,\n",
       "         'b10e7c0a88251d3324428b379bcbff20ccedcf634013ec251b61edefccb9f262acf885eed519f0905d13c3de843fa778a05df1859fde0181a9eae9bce9135ce1': 118,\n",
       "         'c3847d49fcde1d1e70ddab57e816988fe1a68a3f18efa5ce12e4ff459294c81d6205dc4c28e144afe23837f4628dd4b0aabd8b38b3d58a10723cb177ade6f4e8': 102,\n",
       "         '6b751cef2375b475685d07baa9dc70180615c5869b8a8b9d2deaabd8ff760d998d6c26fec04aa8c4bf9a2548c1bf1c9305001f1443dbb5cb3ee92123cfffd7b0': 80,\n",
       "         '05303cf57a937b94535d74fe98e7a8887f7ecd41766bbaedff1e4d497f0786cb4b8d14164c0a7ab67e130bacab44aa306948b1a374770d5d012ed5a68cb1dc11': 73,\n",
       "         'fc876c1ee070bbf3c85e934e81024ee8ca575606167e3b61911c9f1e37c241c47c4b73a7b1fb3ee9381aa34f246b0b087a6a8a5d92d04bf8d42258ce6eac83f2': 94,\n",
       "         '1d79b8c11f60686d82c70f76c9f2c2e72cc9a5a2a713476a8c79dfb68068aacbdf77ba50b86aec53525ace895d2af0c6969d82b5035dc7fbeaedfeacb566e485': 121,\n",
       "         '357955e8a482f818694d72395d4a5edde985697241e1a2d13d6382c5e5a60a943fb712b2c3e4f236232b09a76d1f4b80b23e1262b947db4f97e880ae4070c993': 56,\n",
       "         '7b3bd826b4ea163e018ca7c7e6f8944576116a7aa1f2bdce71ddf65d265d3148dca22ad2a9601b8f2244f34bf7f3edb0fa7c2977865f433d813587d22a4f49c4': 48,\n",
       "         '0cda606b39775af3dd071471a56aa2929016fef523a700269324f60ba3f8f4925ada3f8aaf9263168277a69b96c20334347726e717b49585fa614d06f72e335f': 49,\n",
       "         'aec0ccc6323ac55b830bcd7704836647bb9a08511d92e9542229b973e944426898fe0d908934bc2e5d05701c548e03bf5398885ec60196aedeb74cc6513d5e1c': 76,\n",
       "         '261bca862597269f97d1fd29b83962289b6f0bf276dc81d17bc992af4c86c92597be42aab409ba98400aaf045a99240a44d2af249ed7f883a7902e9343505fa5': 79,\n",
       "         '79a96e48cfd0df68d88a40311f0fbf048083c3602739018763e153048e4cb332406753a7fa391287b814c5dea7672b7b36cd35ed19d0b64b168da7c94477c687': 99,\n",
       "         '514096fbce158d9d3167de1459ad4f3f1281ac9e6a32b26d491eeb67d0914203cb7cb280f7d6f6dc6dcc0e0b4bb1de615ec60de9eece80c8dfe9cf72ade683c3': 68,\n",
       "         'e4c54f9bfb2999d7efab0da33ad3fbf670142a1978b919ac104a848381341ae603cad3f21ee2a61d03501660e7775845dbedd73a973465b6fc7b144d1a567efc': 69,\n",
       "         '5790b443794f288e310477ac0093faf55c1e9a56d220546c602e21a98cb031683257d86c480f0e855694c313f90ba999a451a868a1cf44c2ae953ba2eb599f72': 98,\n",
       "         '76886e04804c6fd2eb1cc8ec4c5bda3fb0bceb2e0615c63d7d264096f676f62cddf63ac1ab05fac1304a2b3e93575ed00ec0809ef9caaf52ce2f130d2292f3b8': 83,\n",
       "         '30648f53ad9c8a03004e41d5f31b270999948af129e9031f9153b431e48ec427669285591330e8766ddc96b32913e033109effc9a8bbe606cb479ddc92fd8042': 50,\n",
       "         'a8ab9552b70fb31e77d7130bd40f07a575f96b69b4aa8457c5293e9875101241f1fb122ffd4a483cd06e297da0c8d3f1d5db196c176fd0371aa441b2c2c9a59c': 88,\n",
       "         '150cc3e1aa91d1026b2b9832d7bad89b60f94bdbba1ee0874a4341d98bc5d995931cb0c391175297427d7fbe430c6e4553e8e20be8b2ff1daf19f7c70c995ae5': 91,\n",
       "         '1ec55d70d34287f6016839c7215d59fff8e59292a5716fe1d8a681aa3697f81aaa90ea8817d438a3aa54af2ebb4df1c8e958708ac4910368d648363879cc1869': 66,\n",
       "         '280e308d5a4fb314b1574b1aa3f08ffb48726782162bc1ccb7a92765aabe3849ae7d912141dc3bb543052dc981bfce5c54742998366419fb5716149a052e5321': 61,\n",
       "         '2516f236dd681f839f0a296e59a420e1c0e859e228e0d047c4cda0c381a23a4dc41a71bf40ea6e751c1033f1d130693e13de7edf52e2fca1fa880484ce371540': 119,\n",
       "         '299a954c60da9eb56956fd599cbe788fc4ce50f552db6927276d4f27ef2a72e887d49b3f8be2b63653f1bac0522a9baa8593c38dac5ef75fb271952088878481': 56,\n",
       "         '5ac7b9e598673f0812dd1857c6691f61ac31b24b6093b657b92768c9cc87647640ad732d03d2ee836fe40afefad4ff9a81f1e666e858e7d3cde8655625a4e6c0': 44,\n",
       "         '048c16525ae4abf8771a498d7b6f85c7c1f5762798cecb05c05184c074a689acd676bcc41309586c362e35e959e735f3fed3dfd1cc4cb821f678f03b9e91d187': 166,\n",
       "         '45513c12a37a180005a53ddb64fb6fa5c3cc6a40e198c493c2b7e54102d8c23341977cd7c4a285506fabeb5ea6017fa9b8ced74066750e2b7a47640a77072919': 114,\n",
       "         '52065a5e4b8d70c40db20542b1c3df870b2422e48e77dcab3021ba48a57424c22f796f55835a56118e555a3eae755d3bb6443d801a9c5eb314f40a2953730fbd': 64,\n",
       "         'd966582b4146c35f6d2802d9635b67a277975a549014bdc111b0fee4654b191c5f47ce9d297df9e8cc65b3d272b572f91cdfc2eb191decb77e8130a0c0a2f5a5': 180,\n",
       "         '7f6f774496b3b64dd7f7e91599dfa67fc837f9774a94eef10b8893b185958cb2818834e34eb5fa6c9d7639eeceff6fd14aca4bb4029ec4c473b1820aea1aca91': 59,\n",
       "         'b56e28a8b037af7f3c9dae8e97316607eb313e151b140c4c854503d2e5c5a2ee68ed025e71575c8652b500b29df29a9edafc4b1d0dd0acd09e319014208491fe': 171,\n",
       "         '3447120ac93b7c7788687c259b7f55058804e4982c36174a9a0af762495a6c2310915d2b10562a1f75255d5b0a18eefb304ef7b042006d96d83158f22d238de8': 63,\n",
       "         'a428e0e3bc83454abd895d0011259d09335b8c8f12c579b244dda5b448b5e94627aa10a910025953e20038b240db4c6c8ed2d602afdbd7ae11ca2d168f350033': 37,\n",
       "         '503cebccc7ec21c3f6bba7c1a34fa6a5a84f64339ab3c73f8dbe87169cbc11a62d7de76ded0ab6647429d801a7f05d8edc6106e27c1e05f24da000637f45c79d': 162,\n",
       "         'ec162fcc989ba6c154de96d5e4b61e7d751a40c30f7171941982e0436b2a3b9eb1bdec2d56df694f36816d1837cf02aada1b4e40f91e38d38031e6860565f2bf': 31,\n",
       "         '4ee1abfd29ea9d77f568362f4ee52ee33bf180727a7232266764b8fd70b9df6280d5382f9d63e50f588bd26b3229f1871d6d6eda43d0d572b61547185c5ed042': 113,\n",
       "         'b3cf2cecfdf7d48a5f54c68f7320f608e1b404a7c4a1684d239c9ed36ad83aceb24124848fad67cf653c124ed75d40fc1c07e910f579e6b83d5248e52504603c': 78,\n",
       "         '34ac21cd43f3d789ccfbe700b64f6d11aa352f2d0a7dee79104b51525b452a364eaf038ed04603754536764eada3711825fe73d0cbb04f6e923ab76fe44af89f': 19,\n",
       "         'ce8d19dc90da0eda119956efbae1442a007a65007da440dd920e867729fa2c72de99717393bc40da62e091a1332b0024f8a78ef095021823abc27662ca8f3705': 138,\n",
       "         'fc3fceda1d231d266fec102ea547f23cc050e9fa26297599696856feb04d0d27cfa3a6ee46b12a841c27187746960fc46cce737ccba394a2a33f1167b05734b1': 41,\n",
       "         'b2d9661a85f4d9032ffd55f7e618a68905520f46aba1d1e53979132daa84248dba0193f600057db10983e592fe796a1da2502906361bcea9a1808bdf08f2610a': 25,\n",
       "         'daaa09e125681d3c14a290088cb45473e1dcd2db96f2883318d86702bddae43b6c723d25b0c0f4448fa722913f191884bcbab721b75921d9f0d829e0c1f6576f': 145,\n",
       "         'c63a2823ad9a03dbef6a9a85d338d4fbab092ab30eca2b5bbc4fabcce5a7c7e5d4338bc9161704cd3995f4e41d45123c6ded3b2d837f730302c9c788776a0320': 38,\n",
       "         '4978f507e0e955f80dbbcf3006375cdfa85c1297fbd5bf7f38b4f15c332fc43b4c3b9db649f8b52cdf1681a4e9e1f0f68a6bf5d423b98e4f3e8f659bae8e3c1e': 127,\n",
       "         'bbda51512fcc590b3504c93643b2c89c2b42005e623bc0850ea9ae06c290dd158ba58373d6057368f9563419b8f58d769f35e5a4cdaf2b9161aec3d321e97066': 62,\n",
       "         '4ceec6a27baa48799808a4822f8f3e5ce3c535f1021c7c3b4a38cf1c978315cc9943c6e7570b3925ba9033f9563fe99274134e16aab9632ffa0cc59e5e655be3': 205,\n",
       "         'dc7ab89e81cd601d82ff159d91e12ac4fbd7b2cfbbd22b4307bd96101920cf52247435ee7dffcab12dee9baadc95cebfd4bb08fa82d0a84102e5d2c2ea4c8b3d': 21,\n",
       "         'd2b517d9ef7aec6b63d41fefeee036f63e8342e743c4f3f2e47c85c98c06df33c402a8e43144c8916f4aeb570f852f65ccf950aa1eb244290300e00e0d3272d2': 85,\n",
       "         '974650ba70cd95ad65d64085460cb011f74072968cf4cb9aa118ca225b8839271ac4e7ba05a9b9a461f4dcddcde7b3afc762909dd6e75efcc00cc4c625802243': 91,\n",
       "         'cc7a16f72a9b6786007b0af70e6cb739c8db3b2230df4d8fa5c5ebca4dd0b3fd78d8b78d246d9ddb7666b481bff9cc85c364efd87e03b9f4cc7e8e8000b191e2': 121,\n",
       "         'c74ba03aa9b709d6e883fc1995a7c0b39f0069ce463fdb5d06abca5f7f2a9cc0f27ee876bee7990e3ffa12006108549a1cf8aa21a0bcb2a40c7fef4f2fb4dd90': 173,\n",
       "         'aaa9dc19ff10c5822d4ab7eef70dd17d9c5ebad79abb1991b4528001dc468b329031525c67875b39c3bafe81b7a84efd1e4b42f54238c14a01ae97ff931e112c': 368,\n",
       "         '39607e13e21cf14c0a5ebdabe9af3433a400cd820c3903abe7b4e32a4e54ed412960704b0c409b4a1985643ca117f5f7333c3801db0efed9f9ce756ce178aaf8': 171,\n",
       "         '17406c73e150a5795228361918e675260d858302a367801e3231c56e2b10c0052e77a811fdee102e65a355b90ce9658d442459da7d00815422844f7a8ede1bef': 299,\n",
       "         '7e8241e6a038f6fe53db4c340f2cc45240f7842d8dda8e002d33c31c1d7576e1dfef305a19914c1b01b5bf7beae2c76d449c13dcac421d116d0b08e82c4a7b69': 110,\n",
       "         'e844be03c1c02e7886c871be43a7a87ca70d9c6f32226b83d915f43174e8e218459846445a1f5e9b3ed87267ab61aca053b8abecbaf96da1ad4dca5f30d85028': 25,\n",
       "         'd530b69011ccef7e063b1acf5ba24e59af5866be616615697d9b0c1837a2147b1aef357608092ff4e3b2c12da579cc592ba65f3f40e5cf2d7cb2d26dfbf7497c': 36,\n",
       "         'd1f131b04ae238eea465c8022cc37149fd0b5efef392c025a6c80426861f79a6a0aee55ec8efe09c0384970d205d20d28139ffbb1f4b42044cdaebfabb486324': 25,\n",
       "         '30bb34575fe9b8717726a6140ff62bda3f40f45e233f561d56b5977801ed068462b89e1ab8644987c8158614c4167a37eec13ba388d595ffdfceae4d22b0f4da': 187,\n",
       "         '4f56674c81858e0d7a0bcf41ceed2dcfc507c35425521325a183ca6fdce776fc83435600de41c3a13e6183377b31b652bd8a3985189eef864b8f01ea9dd1710a': 81,\n",
       "         '08a9a4127a6c48c2765abb502ad565699f3c449940869bbe971b1a077dff36d1546219529144ad9e57d76519e1c7d23763fd5d04c2c9f4f35346ac0dbb05fae4': 90,\n",
       "         'c4a522c308c1cb57c4d5f97974146c8bb3c70053121814f1a9c6857e3f778dd3dd001730ccb00f2e3113428475d881cc2da6a6519b68e44383d836d218388ed0': 237,\n",
       "         '6c292308460098f44b49e45ea6cba7cd11588806b34e7b2c0840ee27885a0cceb6a38551d8802e6bebc0f1863755ba7bd48f9f88079f3fcc5f03bc1075500953': 112,\n",
       "         'f4d2516d878b2fc3b099914b5c7089abec30827a452b7200bc282a7f299f83c780e38371380cef31faf101439a5965b0edd9c0231c4964fda221c96c0bc462fb': 324,\n",
       "         '3c943d5886e19b101e7508e4f8630d5adad50b4824621d9837e5f47b9a19ef51d1dca2f0dd2afc2a31bff802e555f6e59359859c91bb457dc8d92c8e48b10471': 605,\n",
       "         'a9a5b0da1aadab7621f6ff144245201cafbe186e8871008f87abf78d1f6291c5fc94e7904d54390209efb537ab7dc4fc46c600e40afecd8b52c96ac3e69abf2a': 434,\n",
       "         '97538cf03cc44bd8b6b3a0b58441e62191b29eb0faf49e07fbfac11b598e10bebc17cc3fbe1d2d733e6316e4acab5ffb4a54d5c8beb731acafd0e9db2b92575c': 113,\n",
       "         'c4a83253c754d433ef296aeb3633767f7a7960706a60265cf5bbf1e9fe4c40d0d295e6dc40a6e3f93a0f6bc5563ecf1e818d2af3a332f0613cf4de4195f68563': 110,\n",
       "         '9137f4fb9f04c364643fdab6e709a4dfa2430c9c933e4dd21130ce2d24b64706aff5eb540a352941a212a0c37022e67361a970805c44e303b302ab0b42bba7b2': 1308,\n",
       "         '9d91497cb25399ad6cf6a4d88548fa84ee3c3687363015eb7b12d269cf363dec73496b009c86266b8b7dda93ff257139bab1ddf599719f46ce5cee865a6d80c1': 217,\n",
       "         '939991dfcf12d8250739f3b4e5ed47e0dc4bf8ffb69810f4ab853aa12872a811941be35b7e91af5df8350d75d3c61d1301aba694c41deb3f38f1414703bc0461': 2024,\n",
       "         'd8288aee86a2a6a3ab6f3e8d4028ef097b51698b2f739252d4986adbc5121df8e90516f16c2ed37a1986efb0493360417f1f5ace80469c766b90446e305173ff': 313})"
      ]
     },
     "execution_count": 5,
     "metadata": {},
     "output_type": "execute_result"
    }
   ],
   "source": [
    "Counter(dataset[\"train\"][\"client_id\"])"
   ]
  },
  {
   "cell_type": "code",
   "execution_count": 6,
   "metadata": {},
   "outputs": [
    {
     "data": {
      "text/plain": [
       "Counter({'': 18211})"
      ]
     },
     "execution_count": 6,
     "metadata": {},
     "output_type": "execute_result"
    }
   ],
   "source": [
    "Counter(dataset[\"train\"][\"segment\"])"
   ]
  },
  {
   "cell_type": "code",
   "execution_count": 7,
   "metadata": {},
   "outputs": [
    {
     "name": "stdout",
     "output_type": "stream",
     "text": [
      "DatasetDict({\n",
      "    train: Dataset({\n",
      "        features: ['client_id', 'path', 'audio', 'sentence', 'age', 'gender', 'accent'],\n",
      "        num_rows: 18211\n",
      "    })\n",
      "    validation: Dataset({\n",
      "        features: ['client_id', 'path', 'audio', 'sentence', 'age', 'gender', 'accent'],\n",
      "        num_rows: 8688\n",
      "    })\n",
      "    test: Dataset({\n",
      "        features: ['client_id', 'path', 'audio', 'sentence', 'age', 'gender', 'accent'],\n",
      "        num_rows: 8693\n",
      "    })\n",
      "    other: Dataset({\n",
      "        features: ['client_id', 'path', 'audio', 'sentence', 'age', 'gender', 'accent'],\n",
      "        num_rows: 16751\n",
      "    })\n",
      "    invalidated: Dataset({\n",
      "        features: ['client_id', 'path', 'audio', 'sentence', 'age', 'gender', 'accent'],\n",
      "        num_rows: 4870\n",
      "    })\n",
      "})\n"
     ]
    }
   ],
   "source": [
    "# Drop unnecessary columns\n",
    "\n",
    "dataset = dataset.remove_columns(['up_votes', 'down_votes', 'locale', 'segment'])\n",
    "print(dataset)                               "
   ]
  },
  {
   "cell_type": "code",
   "execution_count": 9,
   "metadata": {},
   "outputs": [],
   "source": [
    "# Split into the train, validation, and test set\n",
    "\n",
    "train_set = dataset[\"train\"].with_format(\"torch\")\n",
    "val_set = dataset[\"validation\"].with_format(\"torch\")\n",
    "test_set = dataset[\"test\"].with_format(\"torch\")"
   ]
  }
 ],
 "metadata": {
  "kernelspec": {
   "display_name": "Python 3",
   "language": "python",
   "name": "python3"
  },
  "language_info": {
   "codemirror_mode": {
    "name": "ipython",
    "version": 3
   },
   "file_extension": ".py",
   "mimetype": "text/x-python",
   "name": "python",
   "nbconvert_exporter": "python",
   "pygments_lexer": "ipython3",
   "version": "3.8.10"
  }
 },
 "nbformat": 4,
 "nbformat_minor": 4
}
